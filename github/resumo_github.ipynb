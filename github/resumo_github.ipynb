{
 "cells": [
  {
   "attachments": {},
   "cell_type": "markdown",
   "metadata": {},
   "source": [
    "# Criando uma conta no GitHub"
   ]
  },
  {
   "attachments": {},
   "cell_type": "markdown",
   "metadata": {},
   "source": [
    "Para começar a compartilhar seus projetos no GitHub, o primeiro passo é criar uma conta na plataforma! &#x1F600;\n",
    "\n",
    "Entre no site https://github.com/ e clique no botão \"Sign up\" localizado no canto superior direito da tela, conforme imagem abaixo."
   ]
  },
  {
   "attachments": {},
   "cell_type": "markdown",
   "metadata": {},
   "source": [
    "<img src=\"https://github.com/carolysg/resumos-estudos/blob/main/github/imagens/01-signup.png?raw=true\" width=\"800\">"
   ]
  },
  {
   "attachments": {},
   "cell_type": "markdown",
   "metadata": {},
   "source": [
    "Prencha todos os seus dados corretamente conforme forem solicitados.\n",
    "\n",
    "Vá clicando em \"Continue\" e siga as instruções até o final."
   ]
  },
  {
   "attachments": {},
   "cell_type": "markdown",
   "metadata": {},
   "source": [
    "<img src=\"https://github.com/carolysg/resumos-estudos/blob/main/github/imagens/02-signup.png?raw=true\" width=\"800\">"
   ]
  },
  {
   "attachments": {},
   "cell_type": "markdown",
   "metadata": {},
   "source": [
    "Pronto! Sua conta no GitHub está criada.\n",
    "\n",
    "Agora, precisamos instalar o VS Code no computador."
   ]
  },
  {
   "attachments": {},
   "cell_type": "markdown",
   "metadata": {},
   "source": [
    "# Instalando o VS Code na sua máquina"
   ]
  },
  {
   "attachments": {},
   "cell_type": "markdown",
   "metadata": {},
   "source": [
    "Para baixar o VS Code, entre no site https://code.visualstudio.com/.\n",
    "\n",
    "No final da página você encontra as opções de download para cada um dos sistemas operacionais."
   ]
  },
  {
   "attachments": {},
   "cell_type": "markdown",
   "metadata": {},
   "source": [
    "<img src=\"https://github.com/carolysg/resumos-estudos/blob/main/github/imagens/03-vscode.png?raw=true\" width=\"800\">"
   ]
  },
  {
   "attachments": {},
   "cell_type": "markdown",
   "metadata": {},
   "source": [
    "Faça o download e siga as instruções até finalizar a instalação do software."
   ]
  },
  {
   "attachments": {},
   "cell_type": "markdown",
   "metadata": {},
   "source": [
    "# Instalando o Git na sua máquina"
   ]
  },
  {
   "attachments": {},
   "cell_type": "markdown",
   "metadata": {},
   "source": [
    "Para interagir com o GitHub é necessário fazer o download do Git, um sistema de controle de versão open source utilizado no controle de arquivos.\n",
    "\n",
    "Para isso, acesse o site https://www.atlassian.com/git/tutorials/install-git#windows.\n",
    "\n",
    "O site possui um passo a passo detalhado para a instalação do Git para cada um dos sistemas operacionais.\n",
    "\n",
    "Também são mostrados os passos de configuração de usuário e e-mail (que você também deve realizar!)."
   ]
  },
  {
   "attachments": {},
   "cell_type": "markdown",
   "metadata": {},
   "source": [
    "# Extensões do GitHub"
   ]
  },
  {
   "attachments": {},
   "cell_type": "markdown",
   "metadata": {},
   "source": [
    "Para facilitar a interação com o GitHub através do VS Code podemos instalar algumas extensões.\n",
    "\n",
    "Ao abrir o VS Code, acesse a barra lateral esquerda e clique no ícone de \"Extensões\". O comando CTRL + SHIFT + X também pode ser utilizado."
   ]
  },
  {
   "attachments": {},
   "cell_type": "markdown",
   "metadata": {},
   "source": [
    "<img src=\"https://github.com/carolysg/resumos-estudos/blob/main/github/imagens/04-extensoes.png?raw=true\" width=\"300\">"
   ]
  },
  {
   "attachments": {},
   "cell_type": "markdown",
   "metadata": {},
   "source": [
    "Na barra de busca, localizada no canto superior esquerdo da aba, digite a palavra \"GitHub\".\n",
    "\n",
    "Existem diversas extensões que podem ser instaladas. Leia com atenção o que cada uma faz antes de instalá-las. \n",
    "\n",
    "Para instalar uma extensão, basta clicar no botão \"Instalar\" logo abaixo do nome da extensão.\n",
    "\n"
   ]
  },
  {
   "attachments": {},
   "cell_type": "markdown",
   "metadata": {},
   "source": [
    "<img src=\"https://github.com/carolysg/resumos-estudos/blob/main/github/imagens/05-extensaogithub.png?raw=true\" width=\"800\">"
   ]
  },
  {
   "attachments": {},
   "cell_type": "markdown",
   "metadata": {},
   "source": [
    "# Criando um repositório"
   ]
  },
  {
   "attachments": {},
   "cell_type": "markdown",
   "metadata": {},
   "source": [
    "Vamos finalmente criar nosso primeiro repositório!\n",
    "\n",
    "Para isso, após logar na sua conta no site do GitHub, clique no botão verde \"New\" localizado no canto superior esquerdo da página."
   ]
  },
  {
   "attachments": {},
   "cell_type": "markdown",
   "metadata": {},
   "source": [
    "<img src=\"https://github.com/carolysg/resumos-estudos/blob/main/github/imagens/06-repositorio.png?raw=true\" width=\"400\">"
   ]
  },
  {
   "attachments": {},
   "cell_type": "markdown",
   "metadata": {},
   "source": [
    "A primeira coisa que você deve fazer é definir um nome para seu repositório (\"Repository name\").\n",
    "\n",
    "Lembre-se de utilizar um nome simples e fácil de entender.\n",
    "\n",
    "Também recomendo que utilize apenas letras minúsculas, sem caracteres especiais, separando as palavras por traço (\"-\") ou underline (\"_\").\n",
    "\n",
    "Você pode ainda colocar uma descrição (opcional) sobre seu repositório (\"Description\").\n",
    "\n",
    "Escolha se seu repositório será público (\"Public\") ou privado (\"Private\"). Um repositório público pode ser visto por qualquer um, mas você escolhe as pessoas que podem dar commit (esse termo será explicado mais abaixo; mas, de forma simples, você escolhe as pessoas que podem sugerir alterações nos seus códigos). Um repositório privado apenas será visto por quem você permitir."
   ]
  },
  {
   "attachments": {},
   "cell_type": "markdown",
   "metadata": {},
   "source": [
    "<img src=\"https://github.com/carolysg/resumos-estudos/blob/main/github/imagens/07-repositorio.png?raw=true\" width=\"600\">"
   ]
  },
  {
   "attachments": {},
   "cell_type": "markdown",
   "metadata": {},
   "source": [
    "Você pode escolher se seu repositório terá um arquivo inicial \"README\".\n",
    "\n",
    "Basicamente, o \"README\" é um arquivo que contém explicações sobre seu repositório. Caso você esteja criando um repositório do zero, ou seja, sem importar um repositório já existente (como é o caso desse passo a passo), você pode selecionar a caixinha \"Add a README file\".\n",
    "\n",
    "Existem ainda algumas configurações de template e licença que podem ser exploradas ao clicar em \"Learn more\". No nosso caso, podemos manter as configurações padrão.\n",
    "\n",
    "Finalmente, podemos clicar no botão verde \"Create repository\" para criar nosso repositório."
   ]
  },
  {
   "attachments": {},
   "cell_type": "markdown",
   "metadata": {},
   "source": [
    "<img src=\"https://github.com/carolysg/resumos-estudos/blob/main/github/imagens/08-repositorio.png?raw=true\" width=\"600\">"
   ]
  },
  {
   "attachments": {},
   "cell_type": "markdown",
   "metadata": {},
   "source": [
    "# Clonando o repositório"
   ]
  },
  {
   "attachments": {},
   "cell_type": "markdown",
   "metadata": {},
   "source": [
    "Agora que seu repositório já está criado, vamos cloná-lo para seu computador! Dessa forma você poderá fazer as edições do projeto direto do seu VS Code.\n",
    "\n",
    "Para isso, comece abrindo o VS Code e clicando em \"Terminal\" -> \"Novo Terminal\" na aba superior. O comando CTRL + SHIFT + ' também deve funcionar."
   ]
  },
  {
   "attachments": {},
   "cell_type": "markdown",
   "metadata": {},
   "source": [
    "<img src=\"https://github.com/carolysg/resumos-estudos/blob/main/github/imagens/09-clone.png?raw=true\" width=\"600\">"
   ]
  },
  {
   "attachments": {},
   "cell_type": "markdown",
   "metadata": {},
   "source": [
    "No seu computador, escolha o local onde irá abrigar a pasta do projeto.\n",
    "\n",
    "Quando estiver no local escolhido, clique com o botão direito sobre o caminho e clique em \"Copiar endereço\"."
   ]
  },
  {
   "attachments": {},
   "cell_type": "markdown",
   "metadata": {},
   "source": [
    "<img src=\"https://github.com/carolysg/resumos-estudos/blob/main/github/imagens/10-clone.png?raw=true\" width=\"600\">"
   ]
  },
  {
   "attachments": {},
   "cell_type": "markdown",
   "metadata": {},
   "source": [
    "Volte ao VS Code. Lembra que você tinha aberto um novo terminal? Ao fazer isso, uma caixinha deve ter se aberto na parte inferior do VS Code. \n",
    "\n",
    "É lá, no terminal, que vamos digitar nossos comandos para clonar nosso repositório.\n",
    "\n",
    "Dentro do terminal, digite o comando \"cd\" seguido de um espaço e do caminho que você acabou de copiar."
   ]
  },
  {
   "cell_type": "markdown",
   "metadata": {},
   "source": []
  },
  {
   "attachments": {},
   "cell_type": "markdown",
   "metadata": {},
   "source": [
    "# Arquivo README"
   ]
  },
  {
   "cell_type": "markdown",
   "metadata": {},
   "source": []
  },
  {
   "cell_type": "markdown",
   "metadata": {},
   "source": []
  },
  {
   "cell_type": "markdown",
   "metadata": {},
   "source": []
  }
 ],
 "metadata": {
  "language_info": {
   "name": "python"
  },
  "orig_nbformat": 4
 },
 "nbformat": 4,
 "nbformat_minor": 2
}
