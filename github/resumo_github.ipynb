{
 "cells": [
  {
   "attachments": {},
   "cell_type": "markdown",
   "metadata": {},
   "source": [
    "# Criando uma conta no GitHub"
   ]
  },
  {
   "attachments": {},
   "cell_type": "markdown",
   "metadata": {},
   "source": [
    "Para começar a compartilhar seus projetos no GitHub, o primeiro passo é criar uma conta na plataforma! &#x1F600;\n",
    "\n",
    "Entre no site https://github.com/ e clique no botão \"Sign up\" localizado no canto superior direito da tela, conforme imagem abaixo."
   ]
  },
  {
   "attachments": {},
   "cell_type": "markdown",
   "metadata": {},
   "source": [
    "<img src=\"https://github.com/carolysg/resumos-estudos/blob/main/github/imagens/01-signup.png?raw=true\" width=\"800\">"
   ]
  },
  {
   "attachments": {},
   "cell_type": "markdown",
   "metadata": {},
   "source": [
    "Prencha todos os seus dados corretamente conforme forem solicitados.\n",
    "\n",
    "Vá clicando em \"Continue\" e siga as instruções até o final."
   ]
  },
  {
   "attachments": {},
   "cell_type": "markdown",
   "metadata": {},
   "source": [
    "<img src=\"https://github.com/carolysg/resumos-estudos/blob/main/github/imagens/02-signup.png?raw=true\" width=\"800\">"
   ]
  },
  {
   "attachments": {},
   "cell_type": "markdown",
   "metadata": {},
   "source": [
    "Pronto! Sua conta no GitHub está criada.\n",
    "\n",
    "Agora, precisamos instalar o VS Code no computador."
   ]
  },
  {
   "attachments": {},
   "cell_type": "markdown",
   "metadata": {},
   "source": [
    "# Instalando o VS Code na sua máquina"
   ]
  },
  {
   "attachments": {},
   "cell_type": "markdown",
   "metadata": {},
   "source": [
    "Para baixar o VS Code, entre no site https://code.visualstudio.com/.\n",
    "\n",
    "No final da página você encontra as opções de download para cada um dos sistemas operacionais."
   ]
  },
  {
   "attachments": {},
   "cell_type": "markdown",
   "metadata": {},
   "source": [
    "<img src=\"https://github.com/carolysg/resumos-estudos/blob/main/github/imagens/03-vscode.png?raw=true\" width=\"800\">"
   ]
  },
  {
   "attachments": {},
   "cell_type": "markdown",
   "metadata": {},
   "source": [
    "Faça o download e siga as instruções até finalizar a instalação do software."
   ]
  },
  {
   "attachments": {},
   "cell_type": "markdown",
   "metadata": {},
   "source": [
    "# Instalando o Git na sua máquina"
   ]
  },
  {
   "attachments": {},
   "cell_type": "markdown",
   "metadata": {},
   "source": [
    "Para interagir com o GitHub é necessário fazer o download do Git, um sistema de controle de versão open source utilizado no controle de arquivos.\n",
    "\n",
    "Para isso, acesse o site https://www.atlassian.com/git/tutorials/install-git#windows.\n",
    "\n",
    "O site possui um passo a passo detalhado para a instalação do Git para cada um dos sistemas operacionais.\n",
    "\n",
    "Também são mostrados os passos de configuração de usuário e e-mail (que você também deve realizar!)."
   ]
  },
  {
   "attachments": {},
   "cell_type": "markdown",
   "metadata": {},
   "source": [
    "# Instalando a extensão do GitHub"
   ]
  },
  {
   "attachments": {},
   "cell_type": "markdown",
   "metadata": {},
   "source": [
    "Para facilitar a interação com o GitHub através do VS Code podemos instalar algumas extensões.\n",
    "\n",
    "Ao abrir o VS Code, acesse a barra lateral esquerda e clique no ícone de \"Extensões\". O comando CTRL + SHIFT + X também pode ser utilizado."
   ]
  },
  {
   "attachments": {},
   "cell_type": "markdown",
   "metadata": {},
   "source": [
    "<img src=\"https://github.com/carolysg/resumos-estudos/blob/main/github/imagens/04-extensoes.png?raw=true\" width=\"300\">"
   ]
  },
  {
   "attachments": {},
   "cell_type": "markdown",
   "metadata": {},
   "source": [
    "Na barra de busca, localizada no canto superior esquerdo da aba, digite a palavra \"GitHub\".\n",
    "\n",
    "Existem diversas extensões que podem ser instaladas. Leia com atenção o que ela faz antes de instalá-la. \n",
    "\n",
    "Para instalar uma extensão, basta clicar no botão \"Instalar\" logo abaixo do nome da extensão.\n",
    "\n"
   ]
  },
  {
   "attachments": {},
   "cell_type": "markdown",
   "metadata": {},
   "source": [
    "<img src=\"https://github.com/carolysg/resumos-estudos/blob/main/github/imagens/05-extensaogithub.png?raw=true\" width=\"800\">"
   ]
  },
  {
   "attachments": {},
   "cell_type": "markdown",
   "metadata": {},
   "source": [
    "# Criando um repositório"
   ]
  },
  {
   "cell_type": "markdown",
   "metadata": {},
   "source": []
  },
  {
   "cell_type": "markdown",
   "metadata": {},
   "source": []
  }
 ],
 "metadata": {
  "language_info": {
   "name": "python"
  },
  "orig_nbformat": 4
 },
 "nbformat": 4,
 "nbformat_minor": 2
}
