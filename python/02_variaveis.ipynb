{
 "cells": [
  {
   "attachments": {},
   "cell_type": "markdown",
   "metadata": {},
   "source": [
    "# 02. Variáveis"
   ]
  },
  {
   "attachments": {},
   "cell_type": "markdown",
   "metadata": {},
   "source": [
    "### Tipos de variáveis"
   ]
  },
  {
   "attachments": {},
   "cell_type": "markdown",
   "metadata": {},
   "source": [
    "- Número inteiro: **`int`**\n",
    "- Número decimal: **`float`**\n",
    "- Texto: **`str`**\n",
    "- Booleano: **`True`** ou **`False`**"
   ]
  },
  {
   "attachments": {},
   "cell_type": "markdown",
   "metadata": {},
   "source": [
    "### Mudança de tipo de variável"
   ]
  },
  {
   "cell_type": "code",
   "execution_count": 1,
   "metadata": {},
   "outputs": [],
   "source": [
    "# Transformando um número em texto\n",
    "numero = 300\n",
    "texto_numero = str(numero)"
   ]
  },
  {
   "cell_type": "code",
   "execution_count": 3,
   "metadata": {},
   "outputs": [],
   "source": [
    "# Transformando um input em número\n",
    "idade = int(input('Qual a sua idade?'))\n",
    "\n",
    "## Por padrão, o valor armazenado pelo input é sempre do formato texto (str)"
   ]
  },
  {
   "attachments": {},
   "cell_type": "markdown",
   "metadata": {},
   "source": [
    "### Format e Fstring\n",
    "\n",
    "Utilizados para formatar strings de forma mais conveniente e legível."
   ]
  },
  {
   "cell_type": "code",
   "execution_count": 4,
   "metadata": {},
   "outputs": [],
   "source": [
    "# Definindo valores das variáveis\n",
    "faturamento = 100\n",
    "custo = 50\n",
    "lucro = faturamento - custo"
   ]
  },
  {
   "cell_type": "code",
   "execution_count": 5,
   "metadata": {},
   "outputs": [
    {
     "name": "stdout",
     "output_type": "stream",
     "text": [
      "O faturamento foi de 100, o custo foi de 50 e o lucro foi de 50\n"
     ]
    }
   ],
   "source": [
    "# Format\n",
    "print('O faturamento foi de {}, o custo foi de {} e o lucro foi de {}'.format(faturamento, custo, lucro))"
   ]
  },
  {
   "cell_type": "code",
   "execution_count": 6,
   "metadata": {},
   "outputs": [
    {
     "name": "stdout",
     "output_type": "stream",
     "text": [
      "O faturamento foi de 100, o custo foi de 50 e o lucro foi de 50\n"
     ]
    }
   ],
   "source": [
    "# Fstring\n",
    "print(f'O faturamento foi de {faturamento}, o custo foi de {custo} e o lucro foi de {lucro}')"
   ]
  }
 ],
 "metadata": {
  "kernelspec": {
   "display_name": "Python 3",
   "language": "python",
   "name": "python3"
  },
  "language_info": {
   "codemirror_mode": {
    "name": "ipython",
    "version": 3
   },
   "file_extension": ".py",
   "mimetype": "text/x-python",
   "name": "python",
   "nbconvert_exporter": "python",
   "pygments_lexer": "ipython3",
   "version": "3.11.2"
  },
  "orig_nbformat": 4
 },
 "nbformat": 4,
 "nbformat_minor": 2
}
