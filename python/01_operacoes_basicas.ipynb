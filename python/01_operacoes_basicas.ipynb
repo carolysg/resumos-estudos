{
 "cells": [
  {
   "attachments": {},
   "cell_type": "markdown",
   "metadata": {},
   "source": [
    "# 01. Operações Básicas"
   ]
  },
  {
   "attachments": {},
   "cell_type": "markdown",
   "metadata": {},
   "source": [
    "### Operações com números\n",
    "\n",
    "Lembrando que a ordem das operações segue as regras matemáticas. \\\n",
    "Utilizamos o comando <span style=\"color:red; font-weight:bold\">print</span> para mostrar na tela o resultado da operação."
   ]
  },
  {
   "cell_type": "code",
   "execution_count": 1,
   "metadata": {},
   "outputs": [
    {
     "name": "stdout",
     "output_type": "stream",
     "text": [
      "4\n"
     ]
    }
   ],
   "source": [
    "# Soma\n",
    "print(2 + 2)"
   ]
  },
  {
   "cell_type": "code",
   "execution_count": 2,
   "metadata": {},
   "outputs": [
    {
     "name": "stdout",
     "output_type": "stream",
     "text": [
      "2\n"
     ]
    }
   ],
   "source": [
    "# Subtração\n",
    "print(5 - 3)"
   ]
  },
  {
   "cell_type": "code",
   "execution_count": 3,
   "metadata": {},
   "outputs": [
    {
     "name": "stdout",
     "output_type": "stream",
     "text": [
      "6\n"
     ]
    }
   ],
   "source": [
    "# Multiplicação\n",
    "print(2 * 3)"
   ]
  },
  {
   "cell_type": "code",
   "execution_count": 4,
   "metadata": {},
   "outputs": [
    {
     "name": "stdout",
     "output_type": "stream",
     "text": [
      "8\n"
     ]
    }
   ],
   "source": [
    "# Potência\n",
    "print(2 ** 3)"
   ]
  },
  {
   "cell_type": "code",
   "execution_count": 5,
   "metadata": {},
   "outputs": [
    {
     "name": "stdout",
     "output_type": "stream",
     "text": [
      "3.3333333333333335\n"
     ]
    }
   ],
   "source": [
    "# Divisão\n",
    "print(10 / 3)"
   ]
  },
  {
   "cell_type": "code",
   "execution_count": 6,
   "metadata": {},
   "outputs": [
    {
     "name": "stdout",
     "output_type": "stream",
     "text": [
      "1\n"
     ]
    }
   ],
   "source": [
    "# Resto da divisão\n",
    "print(10 % 3)"
   ]
  },
  {
   "attachments": {},
   "cell_type": "markdown",
   "metadata": {},
   "source": [
    "### Operações com texto\n",
    "\n",
    "A linguagem Python é case sensitive: faz diferenciação entre letras maiúsculas e minúsculas. \\\n",
    "Para unir frases ou palavras, podemos utilizar o operador <span style=\"color:red; font-weight:bold\">+</span>:"
   ]
  },
  {
   "cell_type": "code",
   "execution_count": 7,
   "metadata": {},
   "outputs": [
    {
     "name": "stdout",
     "output_type": "stream",
     "text": [
      "Meu nome éCarol\n"
     ]
    }
   ],
   "source": [
    "# Unir palavras ou frases, ou seja, concatenar\n",
    "print('Meu nome é' + 'Carol')"
   ]
  },
  {
   "attachments": {},
   "cell_type": "markdown",
   "metadata": {},
   "source": [
    "Perceba que a concatenação une as palavras sem acrescentar um espaçamento entre elas. \\\n",
    "O espaçamento deve ser acrescentado na própria frase:"
   ]
  },
  {
   "cell_type": "code",
   "execution_count": 10,
   "metadata": {},
   "outputs": [
    {
     "name": "stdout",
     "output_type": "stream",
     "text": [
      "Meu nome é Carol\n",
      "Meu nome é Carol\n"
     ]
    }
   ],
   "source": [
    "print('Meu nome é ' + 'Carol')\n",
    "# ou\n",
    "print('Meu nome é' + ' ' + 'Carol')"
   ]
  },
  {
   "attachments": {},
   "cell_type": "markdown",
   "metadata": {},
   "source": [
    "Para verificar se um texto/caracter está contido em um texto, utilize o <span style=\"color:red; font-weight:bold\">in</span>:"
   ]
  },
  {
   "cell_type": "code",
   "execution_count": 9,
   "metadata": {},
   "outputs": [
    {
     "name": "stdout",
     "output_type": "stream",
     "text": [
      "True\n"
     ]
    }
   ],
   "source": [
    "# Verificando se a letra 'C' está contida na palavra 'Carol'\n",
    "print('C' in 'Carol')"
   ]
  },
  {
   "attachments": {},
   "cell_type": "markdown",
   "metadata": {},
   "source": [
    "A resposta será <span style=\"color:blue; font-weight:bold\">True</span> se um texto estiver contido em outro, e <span style=\"color:blue; font-weight:bold\">False</span> se não estiver."
   ]
  },
  {
   "attachments": {},
   "cell_type": "markdown",
   "metadata": {},
   "source": [
    "### Definição de variáveis\n",
    "\n",
    "Para definir uma variável, escrevemos: **`nome_da_variavel`** = **`valor_da_variavel`** \\\n",
    "O ideal é não utilizar espaçamento e nem caracteres especiais no nome da variável."
   ]
  },
  {
   "cell_type": "code",
   "execution_count": 12,
   "metadata": {},
   "outputs": [],
   "source": [
    "variavel = 30"
   ]
  },
  {
   "attachments": {},
   "cell_type": "markdown",
   "metadata": {},
   "source": [
    "### Armazenamento de informações digitadas pelo usuário\n",
    "\n",
    "Para armazenar uma informação digitada pelo usuário, utilizamos a função <span style=\"color:red; font-weight:bold\">input</span>."
   ]
  },
  {
   "cell_type": "code",
   "execution_count": 11,
   "metadata": {},
   "outputs": [],
   "source": [
    "# Armazenando a idade do usuário na variável 'idade' \n",
    "idade = input('Qual a sua idade?')"
   ]
  },
  {
   "attachments": {},
   "cell_type": "markdown",
   "metadata": {},
   "source": [
    "### CUIDADO!\n",
    "\n",
    "O comando <span style=\"color:red; font-weight:bold\">print</span> deve ser sempre utilizado com parênteses, e nunca com o sinal de igualdade"
   ]
  },
  {
   "cell_type": "code",
   "execution_count": null,
   "metadata": {},
   "outputs": [],
   "source": [
    "# Forma correta\n",
    "print(variavel)\n",
    "\n",
    "# Forma incorreta\n",
    "print = variavel"
   ]
  },
  {
   "attachments": {},
   "cell_type": "markdown",
   "metadata": {},
   "source": [
    "Caso, por engano, você utilize o comando da segunda forma, reinicie o kernel"
   ]
  }
 ],
 "metadata": {
  "kernelspec": {
   "display_name": "Python 3",
   "language": "python",
   "name": "python3"
  },
  "language_info": {
   "codemirror_mode": {
    "name": "ipython",
    "version": 3
   },
   "file_extension": ".py",
   "mimetype": "text/x-python",
   "name": "python",
   "nbconvert_exporter": "python",
   "pygments_lexer": "ipython3",
   "version": "3.11.2"
  },
  "orig_nbformat": 4
 },
 "nbformat": 4,
 "nbformat_minor": 2
}
